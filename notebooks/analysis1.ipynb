{
 "cells": [
  {
   "cell_type": "markdown",
   "source": [
    "# Joomi Shim"
   ],
   "metadata": {}
  },
  {
   "cell_type": "markdown",
   "source": [
    "## Research question/interests\n",
    "\n",
    "Medical expense dataset includes interesting factors such as smoking status that we could explore to find relationships between each factor to display on the dashboard. We think it will be intriguing to find out the causes of high charges to prevent high medical expenses in the future.\n",
    "\n",
    "To what extent would the factors in the dataset affect the personal medical expense?"
   ],
   "metadata": {}
  }
 ],
 "metadata": {
  "orig_nbformat": 4,
  "language_info": {
   "name": "plaintext"
  }
 },
 "nbformat": 4,
 "nbformat_minor": 2
}