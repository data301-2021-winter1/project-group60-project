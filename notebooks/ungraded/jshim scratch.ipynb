{
 "cells": [
  {
   "cell_type": "code",
   "execution_count": null,
   "id": "b1154f21-a824-41f0-bcea-f9f6ebb3e3b9",
   "metadata": {},
   "outputs": [],
   "source": [
    "df.groupby('age').mean().reset_index().T"
   ]
  },
  {
   "cell_type": "code",
   "execution_count": null,
   "id": "eb06af18-a1b2-4bbd-8494-a9dd4ec3a039",
   "metadata": {},
   "outputs": [],
   "source": [
    "for i in range(18,64):\n",
    "    print(\"Mean charge for \",i,\" year old is $\",st.mean(dfu['charges'][(dfu[\"age\"] == i)]))"
   ]
  },
  {
   "cell_type": "code",
   "execution_count": null,
   "id": "644bc2cb-badb-492b-b326-d620acfe8c74",
   "metadata": {},
   "outputs": [],
   "source": [
    "df2b.rename(columns = {\"SID\": \"Student ID\"}, inplace = True)"
   ]
  },
  {
   "cell_type": "code",
   "execution_count": 3,
   "id": "278aabba-b5a4-4076-b4a0-5c940ea2fcd1",
   "metadata": {},
   "outputs": [
    {
     "ename": "ModuleNotFoundError",
     "evalue": "No module named 'projectfunction1'",
     "output_type": "error",
     "traceback": [
      "\u001b[0;31m---------------------------------------------------------------------------\u001b[0m",
      "\u001b[0;31mModuleNotFoundError\u001b[0m                       Traceback (most recent call last)",
      "\u001b[0;32m<ipython-input-3-1171334f92bf>\u001b[0m in \u001b[0;36m<module>\u001b[0;34m\u001b[0m\n\u001b[0;32m----> 1\u001b[0;31m \u001b[0;32mimport\u001b[0m \u001b[0mprojectfunction1\u001b[0m \u001b[0;32mas\u001b[0m \u001b[0mp1\u001b[0m\u001b[0;34m\u001b[0m\u001b[0;34m\u001b[0m\u001b[0m\n\u001b[0m\u001b[1;32m      2\u001b[0m \u001b[0;32mimport\u001b[0m \u001b[0mstatistics\u001b[0m \u001b[0;32mas\u001b[0m \u001b[0mst\u001b[0m\u001b[0;34m\u001b[0m\u001b[0;34m\u001b[0m\u001b[0m\n\u001b[1;32m      3\u001b[0m \u001b[0mdata\u001b[0m \u001b[0;34m=\u001b[0m\u001b[0;34m'../data/raw/insurance_raw1.csv'\u001b[0m\u001b[0;34m\u001b[0m\u001b[0;34m\u001b[0m\u001b[0m\n\u001b[1;32m      4\u001b[0m \u001b[0mdfu\u001b[0m \u001b[0;34m=\u001b[0m \u001b[0mp1\u001b[0m\u001b[0;34m.\u001b[0m\u001b[0munprocessed\u001b[0m\u001b[0;34m(\u001b[0m\u001b[0mdata\u001b[0m\u001b[0;34m)\u001b[0m\u001b[0;34m\u001b[0m\u001b[0;34m\u001b[0m\u001b[0m\n\u001b[1;32m      5\u001b[0m \u001b[0mst\u001b[0m\u001b[0;34m.\u001b[0m\u001b[0mmean\u001b[0m\u001b[0;34m(\u001b[0m\u001b[0mdfu\u001b[0m\u001b[0;34m[\u001b[0m\u001b[0;34m\"charges\"\u001b[0m\u001b[0;34m]\u001b[0m\u001b[0;34m)\u001b[0m\u001b[0;34m\u001b[0m\u001b[0;34m\u001b[0m\u001b[0m\n",
      "\u001b[0;31mModuleNotFoundError\u001b[0m: No module named 'projectfunction1'"
     ]
    }
   ],
   "source": [
    "import projectfunction1 as p1\n",
    "import statistics as st\n",
    "data ='../data/raw/insurance_raw1.csv'\n",
    "dfu = p1.unprocessed(data)\n",
    "st.mean(dfu[\"charges\"])\n",
    "condition1 = dfu['sex'] == \"male\"\n",
    "print(st.mean(dfu.loc[condition1, 'charges']))\n",
    "condition2 = dfu['sex'] == \"female\"\n",
    "print(st.mean(dfu.loc[condition2, 'charges']))"
   ]
  },
  {
   "cell_type": "code",
   "execution_count": null,
   "id": "0087179f-4c54-4831-801f-d93608ce9c67",
   "metadata": {},
   "outputs": [],
   "source": []
  }
 ],
 "metadata": {
  "kernelspec": {
   "display_name": "Python 3",
   "language": "python",
   "name": "python3"
  },
  "language_info": {
   "codemirror_mode": {
    "name": "ipython",
    "version": 3
   },
   "file_extension": ".py",
   "mimetype": "text/x-python",
   "name": "python",
   "nbconvert_exporter": "python",
   "pygments_lexer": "ipython3",
   "version": "3.9.5"
  }
 },
 "nbformat": 4,
 "nbformat_minor": 5
}
