{
 "cells": [
  {
   "cell_type": "code",
   "execution_count": 1,
   "id": "4852317f-f440-49af-a475-c60d2b680bda",
   "metadata": {},
   "outputs": [],
   "source": [
    "import pandas as pd\n",
    "import numpy as np\n",
    "\n",
    "def unprocessed(csv_file):\n",
    "    df = pd.read_csv(csv_file)\n",
    "    return df\n",
    "\n",
    "def load_and_process(csv_file):\n",
    "    df = pd.read_csv(csv_file)\n",
    "    df1=(df.dropna(subset=[\"Year_of_Release\",\"Publisher\",\"Critic_Score\",\"Critic_Count\",\"User_Score\",\"User_Count\",\"Developer\",\"Rating\"]) \n",
    "        .sort_values(\"Genre\")\n",
    "        .reset_index(drop=True)\n",
    "        )    \n",
    "    return df1\n",
    "    \n",
    "def year_of_release(dfp):\n",
    "    df1 = dfp.groupby('Year_of_Release', as_index=False).sum()\n",
    "    return df1\n",
    "    \n",
    "def sort_genre(dfp):\n",
    "    df1 = dfp.groupby(\"Genre\", as_index=False).sum()\n",
    "    df2 = pd.melt(df1, id_vars=\"Genre\", value_vars=[\"NA_Sales\", \"EU_Sales\", \"JP_Sales\", \"Other_Sales\", \"Global_Sales\"],var_name ='Region', value_name ='Sales')\n",
    "    return df2\n",
    "\n",
    "def melt_year_of_release(dfp):\n",
    "    df1 = dfp.groupby('Year_of_Release', as_index=False).sum()\n",
    "    df2 = pd.melt(df1, id_vars=\"Year_of_Release\", value_vars=[\"NA_Sales\", \"EU_Sales\", \"JP_Sales\", \"Other_Sales\", \"Global_Sales\"],var_name ='Region', value_name ='Sales')\n",
    "    return df2\n",
    "    \n",
    "def genre_mean(dfp):\n",
    "    return dfp.groupby('Genre', as_index=False).mean()"
   ]
  },
  {
   "cell_type": "code",
   "execution_count": null,
   "id": "df1dad23-e986-46ec-9f4d-9d685d736be8",
   "metadata": {},
   "outputs": [],
   "source": []
  }
 ],
 "metadata": {
  "kernelspec": {
   "display_name": "Python 3",
   "language": "python",
   "name": "python3"
  },
  "language_info": {
   "codemirror_mode": {
    "name": "ipython",
    "version": 3
   },
   "file_extension": ".py",
   "mimetype": "text/x-python",
   "name": "python",
   "nbconvert_exporter": "python",
   "pygments_lexer": "ipython3",
   "version": "3.9.5"
  }
 },
 "nbformat": 4,
 "nbformat_minor": 5
}
