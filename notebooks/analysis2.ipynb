{
 "cells": [
  {
   "cell_type": "markdown",
   "source": [
    "# Spandan Dey"
   ],
   "metadata": {}
  },
  {
   "cell_type": "markdown",
   "source": [
    "## Research question/interests\r\n",
    "\r\n",
    "Briefly describe your research question or interests here.\r\n",
    "\r\n",
    "I am interested to determine the relationship between the charges with the age of the adults. Lower the age of the person is lower the charges are. I am curious if it is possible to determine the insurance cost and change it in any way or view it in a different way."
   ],
   "metadata": {}
  }
 ],
 "metadata": {
  "orig_nbformat": 4,
  "language_info": {
   "name": "plaintext"
  }
 },
 "nbformat": 4,
 "nbformat_minor": 2
}